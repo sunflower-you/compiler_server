{
 "cells": [
  {
   "cell_type": "code",
   "execution_count": 1,
   "metadata": {},
   "outputs": [],
   "source": [
    "import numpy as np"
   ]
  },
  {
   "cell_type": "code",
   "execution_count": 2,
   "metadata": {},
   "outputs": [
    {
     "name": "stdout",
     "output_type": "stream",
     "text": [
      "[[0. 1.]\n",
      " [2. 3.]\n",
      " [4. 5.]]\n"
     ]
    }
   ],
   "source": [
    "a = np.arange(6).reshape(3,2).astype(np.float32)\n",
    "print(a)"
   ]
  },
  {
   "cell_type": "code",
   "execution_count": 3,
   "metadata": {},
   "outputs": [
    {
     "name": "stdout",
     "output_type": "stream",
     "text": [
      "[[0. 1. 2.]\n",
      " [3. 4. 5.]]\n"
     ]
    }
   ],
   "source": [
    "b = np.arange(6).reshape(2,3).astype(np.float32)\n",
    "print(b)"
   ]
  },
  {
   "cell_type": "code",
   "execution_count": 4,
   "metadata": {},
   "outputs": [
    {
     "name": "stdout",
     "output_type": "stream",
     "text": [
      "[[ 3.  4.  5.]\n",
      " [ 9. 14. 19.]\n",
      " [15. 24. 33.]]\n"
     ]
    }
   ],
   "source": [
    "matmul_np_golden = np.matmul(a,b)\n",
    "print(matmul_np_golden)"
   ]
  },
  {
   "cell_type": "code",
   "execution_count": null,
   "metadata": {},
   "outputs": [],
   "source": [
    "# tile_k: k维度拆分，weight 和 feature map 都要拆分\n",
    "# 拆分后 weight和input 相同 tile_id 做matmul，之后所有结果做elemwise add，\n",
    "# 假设k拆了 tile_k 次，最后有 tile_k 个tensor做加法\n",
    "#  一般m叫batch方向，k是ic方向，n是oc方向\n",
    "# 【m,k】* 【k,n】= 【m,n】\n",
    "# 【n,ic】* 【ic, oc】 = 【n, oc】"
   ]
  },
  {
   "cell_type": "code",
   "execution_count": 5,
   "metadata": {},
   "outputs": [],
   "source": [
    "m = 3\n",
    "k = 2\n",
    "n = 3\n",
    "\n",
    "tile_k = 2\n",
    "k_stride = k // tile_k"
   ]
  },
  {
   "cell_type": "code",
   "execution_count": 6,
   "metadata": {},
   "outputs": [
    {
     "name": "stdout",
     "output_type": "stream",
     "text": [
      "[[0.]\n",
      " [2.]\n",
      " [4.]]\n"
     ]
    }
   ],
   "source": [
    "# 1、feature map 拆 tile_k=2 次\n",
    "feature_map_tile_k_0 = a[:, :1]\n",
    "print(feature_map_tile_k_0)"
   ]
  },
  {
   "cell_type": "code",
   "execution_count": 7,
   "metadata": {},
   "outputs": [
    {
     "name": "stdout",
     "output_type": "stream",
     "text": [
      "[[1.]\n",
      " [3.]\n",
      " [5.]]\n"
     ]
    }
   ],
   "source": [
    "feature_map_tile_k_1 = a[:, 1:2]\n",
    "print(feature_map_tile_k_1)"
   ]
  },
  {
   "cell_type": "code",
   "execution_count": 8,
   "metadata": {},
   "outputs": [
    {
     "name": "stdout",
     "output_type": "stream",
     "text": [
      "[[0. 1. 2.]]\n"
     ]
    }
   ],
   "source": [
    "# 2、weight 拆 tile_k=2 次\n",
    "weight_tile_k_0 = b[:1, :]\n",
    "print(weight_tile_k_0)"
   ]
  },
  {
   "cell_type": "code",
   "execution_count": 10,
   "metadata": {},
   "outputs": [
    {
     "name": "stdout",
     "output_type": "stream",
     "text": [
      "[[3. 4. 5.]]\n"
     ]
    }
   ],
   "source": [
    "weight_tile_k_1 = b[1:2, :]\n",
    "print(weight_tile_k_1)"
   ]
  },
  {
   "cell_type": "code",
   "execution_count": 21,
   "metadata": {},
   "outputs": [
    {
     "name": "stdout",
     "output_type": "stream",
     "text": [
      "[[ 3.  4.  5.]\n",
      " [ 9. 14. 19.]\n",
      " [15. 24. 33.]]\n"
     ]
    }
   ],
   "source": [
    "'''\n",
    "Author: sunflower-you m13119160579@163.com\n",
    "Date: 2024-03-25 21:04:52\n",
    "LastEditors: sunflower-you m13119160579@163.com\n",
    "LastEditTime: 2024-03-26 21:07:15\n",
    "FilePath: /compiler_server/python/manual_optimization/matmul/tile_k.ipynb\n",
    "Description: 这是默认设置,请设置`customMade`, 打开koroFileHeader查看配置 进行设置: https://github.com/OBKoro1/koro1FileHeader/wiki/%E9%85%8D%E7%BD%AE\n",
    "'''\n",
    "accum_add = None\n",
    "for tile_k_id in range(tile_k):\n",
    "    feature_map_tile_k = a[:, tile_k_id*k_stride:(tile_k_id+1)*k_stride]\n",
    "    weight_tile_k = b[tile_k_id*k_stride:(tile_k_id+1)*k_stride, :]\n",
    "    matmul_tile_k = np.matmul(feature_map_tile_k, weight_tile_k)\n",
    "    # print(feature_map_tile_k, weight_tile_k)\n",
    "    if tile_k_id == 0:\n",
    "        accum_add = matmul_tile_k\n",
    "        continue\n",
    "    accum_add += matmul_tile_k\n",
    "print(accum_add)"
   ]
  },
  {
   "cell_type": "code",
   "execution_count": 22,
   "metadata": {},
   "outputs": [
    {
     "name": "stdout",
     "output_type": "stream",
     "text": [
      "matmul k维度拆成 2 分，结果是否一致： True\n"
     ]
    }
   ],
   "source": [
    "print(f\"matmul k维度拆成 {tile_k} 分，结果是否一致：\", (matmul_np_golden == accum_add).all())"
   ]
  }
 ],
 "metadata": {
  "kernelspec": {
   "display_name": "compiler_local_conda",
   "language": "python",
   "name": "python3"
  },
  "language_info": {
   "codemirror_mode": {
    "name": "ipython",
    "version": 3
   },
   "file_extension": ".py",
   "mimetype": "text/x-python",
   "name": "python",
   "nbconvert_exporter": "python",
   "pygments_lexer": "ipython3",
   "version": "3.8.5"
  }
 },
 "nbformat": 4,
 "nbformat_minor": 2
}
