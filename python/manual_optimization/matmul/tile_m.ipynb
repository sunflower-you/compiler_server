{
 "cells": [
  {
   "cell_type": "code",
   "execution_count": 2,
   "metadata": {},
   "outputs": [],
   "source": [
    "import numpy as np"
   ]
  },
  {
   "cell_type": "code",
   "execution_count": 16,
   "metadata": {},
   "outputs": [
    {
     "name": "stdout",
     "output_type": "stream",
     "text": [
      "[[0. 1.]\n",
      " [2. 3.]\n",
      " [4. 5.]]\n"
     ]
    }
   ],
   "source": [
    "feature_map = np.arange(6).reshape(3,2).astype(np.float32)\n",
    "print(feature_map)"
   ]
  },
  {
   "cell_type": "code",
   "execution_count": 17,
   "metadata": {},
   "outputs": [
    {
     "name": "stdout",
     "output_type": "stream",
     "text": [
      "[[0. 1. 2.]\n",
      " [3. 4. 5.]]\n"
     ]
    }
   ],
   "source": [
    "weight = np.arange(6).reshape(2,3).astype(np.float32)\n",
    "print(weight)"
   ]
  },
  {
   "cell_type": "code",
   "execution_count": 9,
   "metadata": {},
   "outputs": [],
   "source": [
    "m = 3\n",
    "k = 2\n",
    "n = 3\n",
    "\n",
    "tile_m = 3\n",
    "m_stride = m // tile_m"
   ]
  },
  {
   "cell_type": "code",
   "execution_count": 18,
   "metadata": {},
   "outputs": [
    {
     "name": "stdout",
     "output_type": "stream",
     "text": [
      "[[ 3.  4.  5.]\n",
      " [ 9. 14. 19.]\n",
      " [15. 24. 33.]]\n"
     ]
    }
   ],
   "source": [
    "matmul_np_golden = np.matmul(feature_map, weight)\n",
    "print(matmul_np_golden)"
   ]
  },
  {
   "cell_type": "code",
   "execution_count": null,
   "metadata": {},
   "outputs": [],
   "source": [
    "# tile_m: m维度拆分，feature map 拆分 batch\n",
    "# 拆分 input， 每一份 拆分后的 input 和 weight 做matmul，之后所有结果做concat，\n",
    "# 假设m拆了 tile_m 次，最后有 tile_m 个tensor做 在 m维度 concat\n",
    "#  一般m叫batch方向，k是ic方向，n是oc方向\n",
    "# 【m,k】* 【k,n】= 【m,n】\n",
    "# 【n,ic】* 【ic, oc】 = 【n, oc】"
   ]
  },
  {
   "cell_type": "code",
   "execution_count": 22,
   "metadata": {},
   "outputs": [
    {
     "name": "stdout",
     "output_type": "stream",
     "text": [
      "True\n"
     ]
    }
   ],
   "source": [
    "matmul_tile_m_concat = None\n",
    "for tile_m_id in range(tile_m):\n",
    "    feature_map_tile_m= feature_map[tile_m_id*m_stride:(tile_m_id+1)*m_stride, :]\n",
    "    matmul_tile_m = np.matmul(feature_map_tile_m, weight)\n",
    "    if tile_m_id == 0:\n",
    "        matmul_tile_m_concat = matmul_tile_m\n",
    "        continue\n",
    "    matmul_tile_m_concat = np.concatenate((matmul_tile_m_concat, matmul_tile_m), axis=0)\n",
    "print((matmul_tile_m_concat == matmul_np_golden).all())"
   ]
  }
 ],
 "metadata": {
  "kernelspec": {
   "display_name": "compiler_local_conda",
   "language": "python",
   "name": "python3"
  },
  "language_info": {
   "codemirror_mode": {
    "name": "ipython",
    "version": 3
   },
   "file_extension": ".py",
   "mimetype": "text/x-python",
   "name": "python",
   "nbconvert_exporter": "python",
   "pygments_lexer": "ipython3",
   "version": "3.8.5"
  }
 },
 "nbformat": 4,
 "nbformat_minor": 2
}
