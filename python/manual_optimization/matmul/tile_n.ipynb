{
 "cells": [
  {
   "cell_type": "code",
   "execution_count": 1,
   "metadata": {},
   "outputs": [],
   "source": [
    "import numpy as np"
   ]
  },
  {
   "cell_type": "code",
   "execution_count": 3,
   "metadata": {},
   "outputs": [
    {
     "name": "stdout",
     "output_type": "stream",
     "text": [
      "[[0. 1.]\n",
      " [2. 3.]\n",
      " [4. 5.]]\n"
     ]
    }
   ],
   "source": [
    "a = np.arange(6).reshape(3,2).astype(np.float32)\n",
    "print(a)"
   ]
  },
  {
   "cell_type": "code",
   "execution_count": 4,
   "metadata": {},
   "outputs": [
    {
     "name": "stdout",
     "output_type": "stream",
     "text": [
      "[[0. 1. 2.]\n",
      " [3. 4. 5.]]\n"
     ]
    }
   ],
   "source": [
    "b = np.arange(6).reshape(2,3).astype(np.float32)\n",
    "print(b)"
   ]
  },
  {
   "cell_type": "code",
   "execution_count": 6,
   "metadata": {},
   "outputs": [
    {
     "name": "stdout",
     "output_type": "stream",
     "text": [
      "[[ 3.  4.  5.]\n",
      " [ 9. 14. 19.]\n",
      " [15. 24. 33.]]\n"
     ]
    }
   ],
   "source": [
    "matmul_np_golden = np.matmul(a,b)\n",
    "print(matmul_np_golden)"
   ]
  },
  {
   "cell_type": "code",
   "execution_count": 7,
   "metadata": {},
   "outputs": [],
   "source": [
    "# tile_n: n维度拆分，只拆分weight，拆分后每一片weight和input做matmul，之后所有结果在n维度concat\n",
    "#  一般m叫batch方向，k是ic方向，n是oc方向\n",
    "# 【m,k】* 【k,n】= 【m,n】\n",
    "# 【n,ic】* 【ic, oc】 = 【n, oc】"
   ]
  },
  {
   "cell_type": "code",
   "execution_count": 8,
   "metadata": {},
   "outputs": [
    {
     "name": "stdout",
     "output_type": "stream",
     "text": [
      "[[ 3.]\n",
      " [ 9.]\n",
      " [15.]]\n"
     ]
    }
   ],
   "source": [
    "matmul_tile_n0 = np.matmul(a,b[:,:1])\n",
    "print(matmul_tile_n0)"
   ]
  },
  {
   "cell_type": "code",
   "execution_count": 9,
   "metadata": {},
   "outputs": [
    {
     "name": "stdout",
     "output_type": "stream",
     "text": [
      "[[ 4.]\n",
      " [14.]\n",
      " [24.]]\n"
     ]
    }
   ],
   "source": [
    "matmul_tile_n1 = np.matmul(a,b[:,1:2])\n",
    "print(matmul_tile_n1)"
   ]
  },
  {
   "cell_type": "code",
   "execution_count": 10,
   "metadata": {},
   "outputs": [
    {
     "name": "stdout",
     "output_type": "stream",
     "text": [
      "[[ 5.]\n",
      " [19.]\n",
      " [33.]]\n"
     ]
    }
   ],
   "source": [
    "matmul_tile_n2 = np.matmul(a,b[:,2:3])\n",
    "print(matmul_tile_n2)"
   ]
  },
  {
   "cell_type": "code",
   "execution_count": 11,
   "metadata": {},
   "outputs": [
    {
     "name": "stdout",
     "output_type": "stream",
     "text": [
      "[[ 3.  4.  5.]\n",
      " [ 9. 14. 19.]\n",
      " [15. 24. 33.]]\n"
     ]
    }
   ],
   "source": [
    "matmul_tile_n_res = np.concatenate((matmul_tile_n0, matmul_tile_n1, matmul_tile_n2), axis=-1)\n",
    "print(matmul_tile_n_res)"
   ]
  },
  {
   "cell_type": "code",
   "execution_count": 12,
   "metadata": {},
   "outputs": [
    {
     "name": "stdout",
     "output_type": "stream",
     "text": [
      "n方向拆分前后比较:  [[ True  True  True]\n",
      " [ True  True  True]\n",
      " [ True  True  True]]\n"
     ]
    }
   ],
   "source": [
    "print(\"n方向拆分前后比较: \", matmul_np_golden == matmul_tile_n_res)"
   ]
  },
  {
   "cell_type": "code",
   "execution_count": 13,
   "metadata": {},
   "outputs": [
    {
     "name": "stdout",
     "output_type": "stream",
     "text": [
      "n方向拆分前后比较:  True\n"
     ]
    }
   ],
   "source": [
    "print(\"n方向拆分前后比较: \", (matmul_np_golden == matmul_tile_n_res).all())"
   ]
  }
 ],
 "metadata": {
  "kernelspec": {
   "display_name": "compiler_local_conda",
   "language": "python",
   "name": "python3"
  },
  "language_info": {
   "codemirror_mode": {
    "name": "ipython",
    "version": 3
   },
   "file_extension": ".py",
   "mimetype": "text/x-python",
   "name": "python",
   "nbconvert_exporter": "python",
   "pygments_lexer": "ipython3",
   "version": "3.8.5"
  }
 },
 "nbformat": 4,
 "nbformat_minor": 2
}
